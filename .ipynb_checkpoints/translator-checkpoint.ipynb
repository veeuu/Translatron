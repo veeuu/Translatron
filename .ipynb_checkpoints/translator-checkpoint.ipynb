{
 "cells": [
  {
   "cell_type": "code",
   "execution_count": 25,
   "id": "836f7fbe-f314-4b31-b068-1410659fcc8e",
   "metadata": {},
   "outputs": [],
   "source": [
    "import os\n",
    "from deep_translator import GoogleTranslator\n",
    "import pymysql\n",
    "\n"
   ]
  },
  {
   "cell_type": "code",
   "execution_count": 42,
   "id": "3120267d-76da-4bc8-97d7-263bc1d95564",
   "metadata": {},
   "outputs": [
    {
     "name": "stdin",
     "output_type": "stream",
     "text": [
      "Original Text hello! how are you?\n"
     ]
    }
   ],
   "source": [
    "original_text = input(\"Original Text\")"
   ]
  },
  {
   "cell_type": "code",
   "execution_count": 49,
   "id": "6a8189cb-e9d9-43fb-96ea-f9b9b6c6fe02",
   "metadata": {},
   "outputs": [
    {
     "name": "stdin",
     "output_type": "stream",
     "text": [
      "Input source Language en\n",
      "Input target language fr\n"
     ]
    }
   ],
   "source": [
    "source=input(\"Input source Language\")\n",
    "target=input(\"Input target language\")"
   ]
  },
  {
   "cell_type": "code",
   "execution_count": 50,
   "id": "9c9559e4-580d-474f-9269-b9a43b5dfa2b",
   "metadata": {},
   "outputs": [
    {
     "name": "stdout",
     "output_type": "stream",
     "text": [
      "Translated text: Bonjour! comment vas-tu?\n"
     ]
    }
   ],
   "source": [
    "try:\n",
    "    translated_text = GoogleTranslator(source,target).translate(original_text)\n",
    "    print(f\"Translated text: {translated_text}\")\n",
    "except Exception as e:\n",
    "    print(f\"Translation error: {e}\")\n",
    "    translated_text = \"Translation failed\""
   ]
  },
  {
   "cell_type": "code",
   "execution_count": 51,
   "id": "a40e93c9-9b16-4007-b107-d26fbae32a18",
   "metadata": {},
   "outputs": [
    {
     "name": "stdout",
     "output_type": "stream",
     "text": [
      "Bonjour! comment vas-tu?\n"
     ]
    }
   ],
   "source": [
    "print (translated_text)"
   ]
  },
  {
   "cell_type": "code",
   "execution_count": 52,
   "id": "36f82b8d-1977-4b7f-a1a0-126a7c449021",
   "metadata": {},
   "outputs": [],
   "source": [
    "db_host = 'localhost'  # Your MySQL host, use 'localhost' if running locally\n",
    "db_user = 'root'  # Your MySQL username\n",
    "db_password = 'root@MySQL4admin'  # Your MySQL password\n",
    "db_name = 'translator_database'  # Your MySQL database name"
   ]
  },
  {
   "cell_type": "code",
   "execution_count": 53,
   "id": "ded47e08-cb2a-405f-94d5-993d7d1eb11e",
   "metadata": {},
   "outputs": [
    {
     "name": "stdout",
     "output_type": "stream",
     "text": [
      "('Bonjour! comment vas-tu?',)\n",
      "Translated text from DB: Bonjour! comment vas-tu?\n",
      "Original and translated text saved to MySQL database.\n"
     ]
    }
   ],
   "source": [
    "try:\n",
    "    # Establish connection to MySQL database\n",
    "    conn = pymysql.connect(host=db_host, user=db_user, password=db_password, database=db_name)\n",
    "    cursor = conn.cursor()\n",
    "\n",
    "    # Create table if not exists\n",
    "    cursor.execute('''\n",
    "        CREATE TABLE IF NOT EXISTS extract_text (\n",
    "            id INT AUTO_INCREMENT PRIMARY KEY,\n",
    "            original_text TEXT,\n",
    "            translated_text TEXT,\n",
    "            from_lang varchar(20),to_lang varchar(20)\n",
    "        )\n",
    "    ''')\n",
    "\n",
    "    # Insert original and translated text into the table\n",
    "    cursor.execute('''\n",
    "        INSERT INTO extract_text (original_text, translated_text,from_lang,to_lang )\n",
    "        VALUES (%s, %s,%s, %s)\n",
    "    ''', (original_text, translated_text,source,target))\n",
    "\n",
    "    # Define the variable to find the original text\n",
    "    original_text_to_find = original_text  # Use the original text for querying\n",
    "\n",
    "    # Fetch the translated text based on the original text\n",
    "    cursor.execute('''\n",
    "        SELECT translated_text FROM extract_text\n",
    "        WHERE original_text = %s AND to_lang= %s\n",
    "    ''', (original_text_to_find,target))\n",
    "\n",
    "    # Fetch the result\n",
    "    result = cursor.fetchone()\n",
    "    print(result)\n",
    "\n",
    "    if result:\n",
    "        translated_text = result[0]\n",
    "        print(f\"Translated text from DB: {translated_text}\")\n",
    "    else:\n",
    "        print(\"No translation found for the provided original text.\")\n",
    "\n",
    "    # Commit changes and close connection\n",
    "    conn.commit()\n",
    "    conn.close()\n",
    "\n",
    "    print(\"Original and translated text saved to MySQL database.\")\n",
    "except pymysql.MySQLError as e:\n",
    "    print(f\"MySQL error: {e}\")\n",
    "except Exception as e:\n",
    "    print(f\"An error occurred: {e}\")"
   ]
  },
  {
   "cell_type": "code",
   "execution_count": 54,
   "id": "89811eee-797d-4fd5-995b-bcfbe9e5cee4",
   "metadata": {},
   "outputs": [
    {
     "name": "stdout",
     "output_type": "stream",
     "text": [
      "('Bonjour! comment vas-tu?',)\n"
     ]
    }
   ],
   "source": [
    "print(result)"
   ]
  },
  {
   "cell_type": "code",
   "execution_count": null,
   "id": "20bb6807-b289-4357-9e75-2ba423c0a695",
   "metadata": {},
   "outputs": [],
   "source": []
  }
 ],
 "metadata": {
  "kernelspec": {
   "display_name": "Python 3 (ipykernel)",
   "language": "python",
   "name": "python3"
  },
  "language_info": {
   "codemirror_mode": {
    "name": "ipython",
    "version": 3
   },
   "file_extension": ".py",
   "mimetype": "text/x-python",
   "name": "python",
   "nbconvert_exporter": "python",
   "pygments_lexer": "ipython3",
   "version": "3.12.0"
  }
 },
 "nbformat": 4,
 "nbformat_minor": 5
}
